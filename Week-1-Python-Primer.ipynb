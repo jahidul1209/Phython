{
 "cells": [
  {
   "cell_type": "markdown",
   "metadata": {},
   "source": [
    "# Lesson 1\n",
    "\n",
    "## Identifiers\n",
    "Identifiers in Python are case-sensitive, so temperature and Temperature are distinct names. Identifiers can be composed of almost any combination of letters,\n",
    "numerals, and underscore characters (or more general Unicode characters). The\n",
    "primary restrictions are that an identifier cannot begin with a numeral (thus 9lives\n",
    "is an illegal name), and that there are 33 specially reserved words that cannot be\n",
    "used as identifiers\n",
    "\n",
    "#### Reserved words\n",
    "`False, as, continue, else, from, in, not, return, yield,\n",
    "None, assert, def, except, global, is, or, try,\n",
    "True, break, del, finally, if, lambda, pass, while,\n",
    "and, class, elif, for, import, nonlocal, raise, with`\n",
    "\n",
    "## Creating and Using Objects\n",
    "\n",
    "Classes are the blueprints of objects. In a class, we write how the object will behave. When we \"instantiate\" a class, an object is created.\n",
    "\n",
    "\"Class\" can be compared to \"a block diagram of an electric circuit\" if the circuit itself is compared to \"object\".\n",
    "\n",
    "#### Python's Built-In Classes\n",
    "Some commonly used built in classes are:\n",
    "`\n",
    "bool\n",
    "int\n",
    "float\n",
    "list\n",
    "tuple\n",
    "str\n",
    "set\n",
    "dict\n",
    "`\n",
    "\n",
    "All of these built in classes support literal notation. Following code block explains how we can instantiate variables for the above classes using literal notation. \n"
   ]
  },
  {
   "cell_type": "code",
   "execution_count": 86,
   "metadata": {},
   "outputs": [],
   "source": [
    "# bool\n",
    "is_enabled = True\n",
    "# int \n",
    "number_of_trees = 5000\n",
    "# float\n",
    "account_balance = 500.30\n",
    "# list\n",
    "prime_numbers_under_10 = [2, 3, 5, 7]\n",
    "# tuple\n",
    "a_tuple = (2, 3, 40)\n",
    "# single element tuple\n",
    "single_element_tuple = (2,)\n",
    "# str\n",
    "book_title = 'Cracking the Coding Interview'\n",
    "# set\n",
    "whats_in_my_bag = {'laptop', 'book', 'pen'}\n",
    "# dict\n",
    "a_key_value_store = {\n",
    "    'name' : 'John Doe',\n",
    "    'designation' : 'Software Developer',\n",
    "    'company' : 'Nameless'\n",
    "}\n"
   ]
  },
  {
   "cell_type": "markdown",
   "metadata": {},
   "source": [
    "Let's print all the variables and their types."
   ]
  },
  {
   "cell_type": "code",
   "execution_count": 87,
   "metadata": {},
   "outputs": [
    {
     "name": "stdout",
     "output_type": "stream",
     "text": [
      "variable name: is_enabled, value: True , type: <class 'bool'>\n",
      "variable name: number_of_trees, value: 5000 , type: <class 'int'>\n",
      "variable name: account_balance, value: 500.3 , type: <class 'float'>\n",
      "variable name: prime_numbers_under_10, value: [2, 3, 5, 7] , type: <class 'list'>\n",
      "variable name: a_tuple, value: (2, 3, 40) , type: <class 'tuple'>\n",
      "variable name: single_element_tuple, value: (2,) , type: <class 'tuple'>\n",
      "variable name: book_title, value: Cracking the Coding Interview , type: <class 'str'>\n",
      "variable name: whats_in_my_bag, value: {'book', 'laptop', 'pen'} , type: <class 'set'>\n",
      "variable name: a_key_value_store, value: {'name': 'John Doe', 'designation': 'Software Developer', 'company': 'Nameless'} , type: <class 'dict'>\n"
     ]
    }
   ],
   "source": [
    "print('variable name: is_enabled, value:', is_enabled, ', type:', type(is_enabled))\n",
    "print('variable name: number_of_trees, value:', number_of_trees, ', type:', type(number_of_trees))\n",
    "print('variable name: account_balance, value:', account_balance, ', type:', type(account_balance))\n",
    "print('variable name: prime_numbers_under_10, value:', prime_numbers_under_10, ', type:', type(prime_numbers_under_10))\n",
    "print('variable name: a_tuple, value:', a_tuple, ', type:', type(a_tuple))\n",
    "print('variable name: single_element_tuple, value:', single_element_tuple, ', type:', type(single_element_tuple))\n",
    "print('variable name: book_title, value:', book_title, ', type:', type(book_title))\n",
    "print('variable name: whats_in_my_bag, value:', whats_in_my_bag, ', type:', type(whats_in_my_bag))\n",
    "print('variable name: a_key_value_store, value:', a_key_value_store, ', type:', type(a_key_value_store))"
   ]
  },
  {
   "cell_type": "code",
   "execution_count": 88,
   "metadata": {},
   "outputs": [
    {
     "data": {
      "text/plain": [
       "False"
      ]
     },
     "execution_count": 88,
     "metadata": {},
     "output_type": "execute_result"
    }
   ],
   "source": [
    "bool(None)"
   ]
  },
  {
   "cell_type": "code",
   "execution_count": 89,
   "metadata": {},
   "outputs": [
    {
     "data": {
      "text/plain": [
       "False"
      ]
     },
     "execution_count": 89,
     "metadata": {},
     "output_type": "execute_result"
    }
   ],
   "source": [
    "bool(0)"
   ]
  },
  {
   "cell_type": "code",
   "execution_count": 90,
   "metadata": {},
   "outputs": [
    {
     "data": {
      "text/plain": [
       "True"
      ]
     },
     "execution_count": 90,
     "metadata": {},
     "output_type": "execute_result"
    }
   ],
   "source": [
    "bool(4545)"
   ]
  },
  {
   "cell_type": "code",
   "execution_count": 91,
   "metadata": {},
   "outputs": [
    {
     "data": {
      "text/plain": [
       "True"
      ]
     },
     "execution_count": 91,
     "metadata": {},
     "output_type": "execute_result"
    }
   ],
   "source": [
    "bool(-34354)"
   ]
  },
  {
   "cell_type": "code",
   "execution_count": 92,
   "metadata": {},
   "outputs": [
    {
     "data": {
      "text/plain": [
       "False"
      ]
     },
     "execution_count": 92,
     "metadata": {},
     "output_type": "execute_result"
    }
   ],
   "source": [
    "an_empty_string = ''\n",
    "bool(an_empty_string)"
   ]
  },
  {
   "cell_type": "code",
   "execution_count": 93,
   "metadata": {},
   "outputs": [
    {
     "data": {
      "text/plain": [
       "True"
      ]
     },
     "execution_count": 93,
     "metadata": {},
     "output_type": "execute_result"
    }
   ],
   "source": [
    "a_string = 'aaaaaa'\n",
    "bool(a_string)"
   ]
  },
  {
   "cell_type": "code",
   "execution_count": 94,
   "metadata": {},
   "outputs": [
    {
     "data": {
      "text/plain": [
       "False"
      ]
     },
     "execution_count": 94,
     "metadata": {},
     "output_type": "execute_result"
    }
   ],
   "source": [
    "empty_list = []\n",
    "bool(empty_list)"
   ]
  },
  {
   "cell_type": "code",
   "execution_count": 95,
   "metadata": {},
   "outputs": [
    {
     "data": {
      "text/plain": [
       "True"
      ]
     },
     "execution_count": 95,
     "metadata": {},
     "output_type": "execute_result"
    }
   ],
   "source": [
    "a_list = [1, 2]\n",
    "bool(a_list)"
   ]
  },
  {
   "cell_type": "code",
   "execution_count": 96,
   "metadata": {},
   "outputs": [
    {
     "data": {
      "text/plain": [
       "False"
      ]
     },
     "execution_count": 96,
     "metadata": {},
     "output_type": "execute_result"
    }
   ],
   "source": [
    "empty_tuple = ()\n",
    "bool(empty_tuple)"
   ]
  },
  {
   "cell_type": "code",
   "execution_count": 97,
   "metadata": {},
   "outputs": [
    {
     "data": {
      "text/plain": [
       "True"
      ]
     },
     "execution_count": 97,
     "metadata": {},
     "output_type": "execute_result"
    }
   ],
   "source": [
    "a_tuple = (1, 2)\n",
    "bool(a_tuple)"
   ]
  },
  {
   "cell_type": "code",
   "execution_count": 98,
   "metadata": {},
   "outputs": [],
   "source": [
    "# create an empty set, a set, an empty dictionary and a dictionary. Check if they evaluate to True or False"
   ]
  },
  {
   "cell_type": "markdown",
   "metadata": {},
   "source": [
    "### Mutable / Immutable\n",
    "list, set and dict are mutable\n",
    "<br />\n",
    "Everything else is immutable.\n",
    "### Copy / Deepcopy\n",
    "Say, there is a list, `my_list = [1, 2, 3, [10, 11, 12, 13], 5, 6, 7]`\n",
    "<br />\n",
    "If you write `a = my_list`, `a` is not the copy of `my_list`. It's just a reference. If you change `my_list`, the value of `a` will change also.\n",
    "\n",
    "to copy a variable into another variable, you have to use `copy` module. The following codes demonstrate referencing a varibale, copying a variable and the difference between copy and deep copy"
   ]
  },
  {
   "cell_type": "code",
   "execution_count": 9,
   "metadata": {},
   "outputs": [],
   "source": [
    "my_list = [1, 2, 3, [10, 11, 12, 13], 5, 6, 7]"
   ]
  },
  {
   "cell_type": "code",
   "execution_count": 10,
   "metadata": {},
   "outputs": [
    {
     "name": "stdout",
     "output_type": "stream",
     "text": [
      "my_list =>  [1, 2, 3, [10, 11, 12, 13], 5, 6, 7]\n",
      "my_list_reference =>  [1, 2, 3, [10, 11, 12, 13], 5, 6, 7]\n"
     ]
    }
   ],
   "source": [
    "my_list_reference = my_list\n",
    "print('my_list => ', my_list)\n",
    "print('my_list_reference => ', my_list_reference)"
   ]
  },
  {
   "cell_type": "code",
   "execution_count": 11,
   "metadata": {},
   "outputs": [
    {
     "name": "stdout",
     "output_type": "stream",
     "text": [
      "my_list =>  [1, 2, 3, [10, 11, 12, 13], 5, 6, 7, 8]\n",
      "my_list_reference =>  [1, 2, 3, [10, 11, 12, 13], 5, 6, 7, 8]\n"
     ]
    }
   ],
   "source": [
    "my_list.append(8)\n",
    "print('my_list => ', my_list)\n",
    "print('my_list_reference => ', my_list_reference)"
   ]
  },
  {
   "cell_type": "code",
   "execution_count": 3,
   "metadata": {},
   "outputs": [
    {
     "name": "stdout",
     "output_type": "stream",
     "text": [
      "my_list =>  [1, 2, 3, [10, 11, 12, 13], 5, 6, 7, 8]\n",
      "my_list_reference =>  [1, 2, 3, [10, 11, 12, 13], 5, 6, 7, 8]\n",
      "my_list_copy =>  [1, 2, 3, [10, 11, 12, 13], 5, 6, 7, 8]\n",
      "my_list_deepcopy =>  [1, 2, 3, [10, 11, 12, 13], 5, 6, 7, 8]\n"
     ]
    }
   ],
   "source": [
    "import copy\n",
    "my_list_copy = copy.copy(my_list)\n",
    "my_list_deepcopy = copy.deepcopy(my_list)\n",
    "\n",
    "#printing out values to see whats in it now. everything should be same\n",
    "print('my_list => ', my_list)\n",
    "print('my_list_reference => ', my_list_reference)\n",
    "print('my_list_copy => ', my_list_copy)\n",
    "print('my_list_deepcopy => ', my_list_deepcopy)"
   ]
  },
  {
   "cell_type": "code",
   "execution_count": 103,
   "metadata": {},
   "outputs": [
    {
     "name": "stdout",
     "output_type": "stream",
     "text": [
      "my_list =>  [1, 2, 3, [10, 11, 12, 13], 5, 6, 7, 8, 9]\n",
      "my_list_reference =>  [1, 2, 3, [10, 11, 12, 13], 5, 6, 7, 8, 9]\n",
      "my_list_copy =>  [1, 2, 3, [10, 11, 12, 13], 5, 6, 7, 8]\n",
      "my_list_deepcopy =>  [1, 2, 3, [10, 11, 12, 13], 5, 6, 7, 8]\n"
     ]
    }
   ],
   "source": [
    "my_list.append(9)\n",
    "# printing out values to see whats in it now\n",
    "# my_list should be [1, 2, 3, [10, 11, 12, 13], 5, 6, 7, 8, 9]\n",
    "# my_list_reference should be [1, 2, 3, [10, 11, 12, 13], 5, 6, 7, 8, 9]\n",
    "# my_list_copy should be [1, 2, 3, [10, 11, 12, 13], 5, 6, 7, 8]\n",
    "# my_list_deepcopy should be [1, 2, 3, [10, 11, 12, 13], 5, 6, 7, 8]\n",
    "print('my_list => ', my_list)\n",
    "print('my_list_reference => ', my_list_reference)\n",
    "print('my_list_copy => ', my_list_copy)\n",
    "print('my_list_deepcopy => ', my_list_deepcopy)"
   ]
  },
  {
   "cell_type": "code",
   "execution_count": 104,
   "metadata": {},
   "outputs": [
    {
     "name": "stdout",
     "output_type": "stream",
     "text": [
      "my_list =>  [1, 2, 3, [100, 11, 12, 13], 5, 6, 7, 8, 9]\n",
      "my_list_reference =>  [1, 2, 3, [100, 11, 12, 13], 5, 6, 7, 8, 9]\n",
      "my_list_copy =>  [1, 2, 3, [100, 11, 12, 13], 5, 6, 7, 8]\n",
      "my_list_deepcopy =>  [1, 2, 3, [10, 11, 12, 13], 5, 6, 7, 8]\n"
     ]
    }
   ],
   "source": [
    "# So, why do we need deep copy. See the following example\n",
    "my_list[3][0] = 100\n",
    "# after this operation\n",
    "# my_list should be [1, 2, 3, [100, 11, 12, 13], 5, 6, 7, 8, 9]\n",
    "# my_list_reference should be [1, 2, 3, [100, 11, 12, 13], 5, 6, 7, 8, 9]\n",
    "# my_list_copy should be [1, 2, 3, [100, 11, 12, 13], 5, 6, 7, 8]\n",
    "# my_list_deepcopy should be [1, 2, 3, [10, 11, 12, 13], 5, 6, 7, 8]\n",
    "# So, copy works only for the first level, other levels are just referenced\n",
    "# The first level will not be changed but the other levels will change if the variable we copied from is changed\n",
    "# deepcopy works recursively. \n",
    "# All the levels are copied and they won't be changed even if the variable we copied from is changed\n",
    "print('my_list => ', my_list)\n",
    "print('my_list_reference => ', my_list_reference)\n",
    "print('my_list_copy => ', my_list_copy)\n",
    "print('my_list_deepcopy => ', my_list_deepcopy)"
   ]
  },
  {
   "cell_type": "markdown",
   "metadata": {},
   "source": [
    "## Operators\n",
    "In the previous section, we demonstrated how names can be used to identify existing objects, and how literals and constructors can be used to create instances of\n",
    "built-in classes. Existing values can be combined into larger syntactic expressions\n",
    "using a variety of special symbols and keywords known as operators. The semantics of an operator depends upon the type of its operands. For example, when a\n",
    "and b are numbers, the syntax a+b indicates addition, while if a and b are strings,\n",
    "the operator indicates concatenation.\n",
    "\n",
    "### Logical Operators\n",
    "`not, and, or` are logical operators.\n",
    "`and` and `or` operators are short-circuit."
   ]
  },
  {
   "cell_type": "code",
   "execution_count": 105,
   "metadata": {},
   "outputs": [
    {
     "data": {
      "text/plain": [
       "False"
      ]
     },
     "execution_count": 105,
     "metadata": {},
     "output_type": "execute_result"
    }
   ],
   "source": [
    "not True"
   ]
  },
  {
   "cell_type": "code",
   "execution_count": 106,
   "metadata": {},
   "outputs": [
    {
     "data": {
      "text/plain": [
       "False"
      ]
     },
     "execution_count": 106,
     "metadata": {},
     "output_type": "execute_result"
    }
   ],
   "source": [
    "True and False"
   ]
  },
  {
   "cell_type": "code",
   "execution_count": 107,
   "metadata": {},
   "outputs": [
    {
     "data": {
      "text/plain": [
       "False"
      ]
     },
     "execution_count": 107,
     "metadata": {},
     "output_type": "execute_result"
    }
   ],
   "source": [
    "False and True"
   ]
  },
  {
   "cell_type": "code",
   "execution_count": 108,
   "metadata": {},
   "outputs": [
    {
     "data": {
      "text/plain": [
       "True"
      ]
     },
     "execution_count": 108,
     "metadata": {},
     "output_type": "execute_result"
    }
   ],
   "source": [
    "True and True"
   ]
  },
  {
   "cell_type": "code",
   "execution_count": 109,
   "metadata": {},
   "outputs": [
    {
     "data": {
      "text/plain": [
       "True"
      ]
     },
     "execution_count": 109,
     "metadata": {},
     "output_type": "execute_result"
    }
   ],
   "source": [
    "True or False"
   ]
  },
  {
   "cell_type": "markdown",
   "metadata": {},
   "source": [
    "### Equality Operators\n",
    "Check if two variables are of same value. (In some case, do they have same identity.) `is`, `is not`, `==`, `!=` are equality operators."
   ]
  },
  {
   "cell_type": "code",
   "execution_count": 110,
   "metadata": {},
   "outputs": [
    {
     "name": "stdout",
     "output_type": "stream",
     "text": [
      "140303635608912\n",
      "140303635608848\n"
     ]
    }
   ],
   "source": [
    "a = 280\n",
    "b = 280\n",
    "print(id(a))\n",
    "print(id(b))"
   ]
  },
  {
   "cell_type": "code",
   "execution_count": 111,
   "metadata": {},
   "outputs": [
    {
     "name": "stdout",
     "output_type": "stream",
     "text": [
      "9310304\n",
      "9310304\n"
     ]
    }
   ],
   "source": [
    "c = 256\n",
    "d = 256\n",
    "print(id(c))\n",
    "print(id(d))"
   ]
  },
  {
   "cell_type": "code",
   "execution_count": 112,
   "metadata": {},
   "outputs": [
    {
     "name": "stdout",
     "output_type": "stream",
     "text": [
      "a is b False\n",
      "c is d True\n"
     ]
    }
   ],
   "source": [
    "print('a is b', a is b)\n",
    "print('c is d', c is d)"
   ]
  },
  {
   "cell_type": "code",
   "execution_count": 113,
   "metadata": {},
   "outputs": [
    {
     "name": "stdout",
     "output_type": "stream",
     "text": [
      "a == b True\n",
      "c == d True\n"
     ]
    }
   ],
   "source": [
    "print('a == b', a == b)\n",
    "print('c == d', c == d)"
   ]
  },
  {
   "cell_type": "markdown",
   "metadata": {},
   "source": [
    "### Arithmatic Operators\n",
    "`+, -, /, //, %, *`"
   ]
  },
  {
   "cell_type": "code",
   "execution_count": 114,
   "metadata": {},
   "outputs": [
    {
     "name": "stdout",
     "output_type": "stream",
     "text": [
      "a+b:  268\n",
      "a-b:  200\n",
      "a*b:  7956\n",
      "a/b:  6.882352941176471\n",
      "a//b:  6\n",
      "a%b:  30\n"
     ]
    }
   ],
   "source": [
    "a = 234\n",
    "b = 34\n",
    "\n",
    "print('a+b: ', a+b)\n",
    "print('a-b: ', a-b)\n",
    "print('a*b: ', a*b)\n",
    "print('a/b: ', a/b)\n",
    "print('a//b: ', a//b)\n",
    "print('a%b: ', a%b)"
   ]
  },
  {
   "cell_type": "markdown",
   "metadata": {},
   "source": [
    "### Comparison Operators\n",
    "`<, <=, >, >=`"
   ]
  },
  {
   "cell_type": "code",
   "execution_count": 115,
   "metadata": {},
   "outputs": [
    {
     "name": "stdout",
     "output_type": "stream",
     "text": [
      "a < b False\n",
      "a <= b False\n",
      "a > b True\n",
      "a >= b True\n"
     ]
    }
   ],
   "source": [
    "a = 34\n",
    "b = 23\n",
    "print('a < b', a < b)\n",
    "print('a <= b', a <= b)\n",
    "print('a > b', a > b)\n",
    "print('a >= b', a >= b)"
   ]
  },
  {
   "cell_type": "markdown",
   "metadata": {},
   "source": [
    "For further study, Go to page 12 of the reference book"
   ]
  },
  {
   "cell_type": "markdown",
   "metadata": {},
   "source": [
    "## Conditionals\n",
    "`if first_condition:\n",
    "    first_body\n",
    "elif second_condition:\n",
    "    second_body\n",
    "elif third_condition:\n",
    "    third_body\n",
    "else:\n",
    "    fourth_body`\n",
    "    \n",
    "    \n",
    "Each condition is a Boolean expression, and each body contains one or more commands that are to be executed conditionally. If the first condition succeeds, the first\n",
    "body will be executed; no other conditions or bodies are evaluated in that case.\n",
    "If the first condition fails, then the process continues in similar manner with the\n",
    "evaluation of the second condition. The execution of this overall construct will\n",
    "cause precisely one of the bodies to be executed. There may be any number of\n",
    "elif clauses (including zero), and the final else clause is optional. Nonboolean types may be evaluated as Booleans with intuitive meanings.\n",
    "For example, if response is a string that was entered by a user, and we want to\n",
    "condition a behavior on this being a nonempty string, we may write\n",
    "if response:\n",
    "as a shorthand for the equivalent,\n",
    "if response != :\n",
    "As a simple example, a robot controller might have the following logic:\n"
   ]
  },
  {
   "cell_type": "markdown",
   "metadata": {},
   "source": [
    "`if door_is_closed:\n",
    "    open_door( )\n",
    "advance()`"
   ]
  },
  {
   "cell_type": "markdown",
   "metadata": {},
   "source": [
    "## Loops\n",
    "There are two types of loops in Python. `while` loop and `for` loop.\n",
    "\n",
    "### `while` loop\n",
    "\n",
    "`while condition:\n",
    "     do_something\n",
    "`\n",
    "\n",
    "### `for` loop\n",
    "`for item in iterator:\n",
    "     do_something\n",
    "`\n",
    "\n",
    "#### Iterator and Iterable\n",
    "An iterator can be created from an iterable by using the function iter()\n",
    "<br />\n",
    "From technical point of view, an iterable is an object that has an `__iter__` method which returns an iterator"
   ]
  },
  {
   "cell_type": "markdown",
   "metadata": {},
   "source": [
    "## Functions\n",
    "In mathematics, a function is defined as, f(x) = x + 2, f(x) = x*x etc.\n",
    "<br />\n",
    "In python, we can write f(x) = x + 2 like below:"
   ]
  },
  {
   "cell_type": "code",
   "execution_count": 116,
   "metadata": {},
   "outputs": [],
   "source": [
    "def my_function(x):\n",
    "    return x+2\n"
   ]
  },
  {
   "cell_type": "markdown",
   "metadata": {},
   "source": [
    "if we want to use it somewhere, i.e. we want to calculate x+2 for an x, then we need to do the following"
   ]
  },
  {
   "cell_type": "code",
   "execution_count": 117,
   "metadata": {},
   "outputs": [
    {
     "data": {
      "text/plain": [
       "12"
      ]
     },
     "execution_count": 117,
     "metadata": {},
     "output_type": "execute_result"
    }
   ],
   "source": [
    "my_function(10)"
   ]
  },
  {
   "cell_type": "markdown",
   "metadata": {},
   "source": [
    "if we want to write f(x) = x*x in python, we should write"
   ]
  },
  {
   "cell_type": "code",
   "execution_count": 118,
   "metadata": {},
   "outputs": [],
   "source": [
    "def another_function(x):\n",
    "    return x*x"
   ]
  },
  {
   "cell_type": "markdown",
   "metadata": {},
   "source": [
    "to use this function we need to call it like"
   ]
  },
  {
   "cell_type": "code",
   "execution_count": 119,
   "metadata": {},
   "outputs": [
    {
     "data": {
      "text/plain": [
       "100"
      ]
     },
     "execution_count": 119,
     "metadata": {},
     "output_type": "execute_result"
    }
   ],
   "source": [
    "another_function(10)"
   ]
  },
  {
   "cell_type": "markdown",
   "metadata": {},
   "source": [
    "Now write the following function in python. f(x) = x*x*x + 5x + 14 and call it."
   ]
  },
  {
   "cell_type": "code",
   "execution_count": 120,
   "metadata": {},
   "outputs": [],
   "source": [
    "def test_function(x):\n",
    "    # TODO\n",
    "    pass"
   ]
  },
  {
   "cell_type": "markdown",
   "metadata": {},
   "source": [
    "Now, call this function"
   ]
  },
  {
   "cell_type": "code",
   "execution_count": 121,
   "metadata": {},
   "outputs": [],
   "source": [
    "# call test_function"
   ]
  },
  {
   "cell_type": "markdown",
   "metadata": {},
   "source": [
    "## Generators & Iterables"
   ]
  },
  {
   "cell_type": "code",
   "execution_count": 122,
   "metadata": {},
   "outputs": [
    {
     "ename": "TypeError",
     "evalue": "'list' object is not an iterator",
     "output_type": "error",
     "traceback": [
      "\u001b[0;31m---------------------------------------------------------------------------\u001b[0m",
      "\u001b[0;31mTypeError\u001b[0m                                 Traceback (most recent call last)",
      "\u001b[0;32m<ipython-input-122-889ef76ee4ac>\u001b[0m in \u001b[0;36m<module>\u001b[0;34m\u001b[0m\n\u001b[1;32m      1\u001b[0m \u001b[0mdata\u001b[0m \u001b[0;34m=\u001b[0m \u001b[0;34m[\u001b[0m\u001b[0;36m1\u001b[0m\u001b[0;34m,\u001b[0m \u001b[0;36m2\u001b[0m\u001b[0;34m,\u001b[0m \u001b[0;36m3\u001b[0m\u001b[0;34m,\u001b[0m \u001b[0;36m4\u001b[0m\u001b[0;34m,\u001b[0m \u001b[0;36m5\u001b[0m\u001b[0;34m,\u001b[0m \u001b[0;36m6\u001b[0m\u001b[0;34m,\u001b[0m \u001b[0;36m7\u001b[0m\u001b[0;34m,\u001b[0m \u001b[0;36m8\u001b[0m\u001b[0;34m]\u001b[0m\u001b[0;34m\u001b[0m\u001b[0;34m\u001b[0m\u001b[0m\n\u001b[1;32m      2\u001b[0m \u001b[0;34m\u001b[0m\u001b[0m\n\u001b[0;32m----> 3\u001b[0;31m \u001b[0mnext\u001b[0m\u001b[0;34m(\u001b[0m\u001b[0mdata\u001b[0m\u001b[0;34m)\u001b[0m\u001b[0;34m\u001b[0m\u001b[0;34m\u001b[0m\u001b[0m\n\u001b[0m",
      "\u001b[0;31mTypeError\u001b[0m: 'list' object is not an iterator"
     ]
    }
   ],
   "source": [
    "data = [1, 2, 3, 4, 5, 6, 7, 8]\n",
    "\n",
    "next(data)"
   ]
  },
  {
   "cell_type": "code",
   "execution_count": 123,
   "metadata": {},
   "outputs": [
    {
     "name": "stdout",
     "output_type": "stream",
     "text": [
      "<class 'list_iterator'>\n"
     ]
    },
    {
     "data": {
      "text/plain": [
       "1"
      ]
     },
     "execution_count": 123,
     "metadata": {},
     "output_type": "execute_result"
    }
   ],
   "source": [
    "iterable_data = iter(data)\n",
    "\n",
    "print(type(iterable_data))\n",
    "\n",
    "next(iterable_data)"
   ]
  },
  {
   "cell_type": "code",
   "execution_count": 124,
   "metadata": {},
   "outputs": [
    {
     "data": {
      "text/plain": [
       "2"
      ]
     },
     "execution_count": 124,
     "metadata": {},
     "output_type": "execute_result"
    }
   ],
   "source": [
    "next(iterable_data)"
   ]
  },
  {
   "cell_type": "code",
   "execution_count": 125,
   "metadata": {},
   "outputs": [
    {
     "data": {
      "text/plain": [
       "3"
      ]
     },
     "execution_count": 125,
     "metadata": {},
     "output_type": "execute_result"
    }
   ],
   "source": [
    "next(iterable_data)"
   ]
  },
  {
   "cell_type": "code",
   "execution_count": 126,
   "metadata": {},
   "outputs": [
    {
     "data": {
      "text/plain": [
       "range"
      ]
     },
     "execution_count": 126,
     "metadata": {},
     "output_type": "execute_result"
    }
   ],
   "source": [
    "type(range(1000000))"
   ]
  },
  {
   "cell_type": "code",
   "execution_count": 127,
   "metadata": {},
   "outputs": [],
   "source": [
    "range_data = range(1000000)"
   ]
  },
  {
   "cell_type": "code",
   "execution_count": 128,
   "metadata": {},
   "outputs": [
    {
     "data": {
      "text/plain": [
       "0"
      ]
     },
     "execution_count": 128,
     "metadata": {},
     "output_type": "execute_result"
    }
   ],
   "source": [
    "range_data[0]"
   ]
  },
  {
   "cell_type": "code",
   "execution_count": 129,
   "metadata": {},
   "outputs": [
    {
     "data": {
      "text/plain": [
       "range(0, 199)"
      ]
     },
     "execution_count": 129,
     "metadata": {},
     "output_type": "execute_result"
    }
   ],
   "source": [
    "range(199)"
   ]
  },
  {
   "cell_type": "markdown",
   "metadata": {},
   "source": [
    "range uses lazy evaluation. range(199) doesn't create a list of list consisting 199 values. It simply creates a range object that allows us writing loops in the form, for i in range(199). This saves time and memory. There are many python library functions. Such as, keys(), values() and items() of dictionary class."
   ]
  },
  {
   "cell_type": "code",
   "execution_count": 130,
   "metadata": {},
   "outputs": [
    {
     "data": {
      "text/plain": [
       "dict_keys"
      ]
     },
     "execution_count": 130,
     "metadata": {},
     "output_type": "execute_result"
    }
   ],
   "source": [
    "my_dictionary = {\"a\": 'apple', \"b\": \"book\"}\n",
    "\n",
    "type(my_dictionary.keys())"
   ]
  },
  {
   "cell_type": "code",
   "execution_count": 131,
   "metadata": {},
   "outputs": [],
   "source": [
    "a = my_dictionary.keys()"
   ]
  },
  {
   "cell_type": "code",
   "execution_count": 132,
   "metadata": {},
   "outputs": [
    {
     "data": {
      "text/plain": [
       "dict_keys"
      ]
     },
     "execution_count": 132,
     "metadata": {},
     "output_type": "execute_result"
    }
   ],
   "source": [
    "type(a)"
   ]
  },
  {
   "cell_type": "code",
   "execution_count": 2,
   "metadata": {},
   "outputs": [
    {
     "ename": "NameError",
     "evalue": "name 'my_dictionary' is not defined",
     "output_type": "error",
     "traceback": [
      "\u001b[1;31m---------------------------------------------------------------------------\u001b[0m",
      "\u001b[1;31mNameError\u001b[0m                                 Traceback (most recent call last)",
      "\u001b[1;32m<ipython-input-2-ea519ad21f5d>\u001b[0m in \u001b[0;36m<module>\u001b[1;34m\u001b[0m\n\u001b[1;32m----> 1\u001b[1;33m \u001b[0mb\u001b[0m \u001b[1;33m=\u001b[0m \u001b[0mlist\u001b[0m\u001b[1;33m(\u001b[0m\u001b[0mmy_dictionary\u001b[0m\u001b[1;33m.\u001b[0m\u001b[0mkeys\u001b[0m\u001b[1;33m(\u001b[0m\u001b[1;33m)\u001b[0m\u001b[1;33m)\u001b[0m\u001b[1;33m\u001b[0m\u001b[1;33m\u001b[0m\u001b[0m\n\u001b[0m",
      "\u001b[1;31mNameError\u001b[0m: name 'my_dictionary' is not defined"
     ]
    }
   ],
   "source": [
    "b = list(my_dictionary.keys())"
   ]
  },
  {
   "cell_type": "code",
   "execution_count": 135,
   "metadata": {},
   "outputs": [
    {
     "name": "stdout",
     "output_type": "stream",
     "text": [
      "dict_keys(['a', 'b'])\n"
     ]
    }
   ],
   "source": [
    "print(a)"
   ]
  },
  {
   "cell_type": "code",
   "execution_count": 136,
   "metadata": {},
   "outputs": [
    {
     "name": "stdout",
     "output_type": "stream",
     "text": [
      "['a', 'b']\n"
     ]
    }
   ],
   "source": [
    "print(b)"
   ]
  },
  {
   "cell_type": "code",
   "execution_count": 137,
   "metadata": {},
   "outputs": [
    {
     "data": {
      "text/plain": [
       "[1, 2, 4, 5, 10, 20]"
      ]
     },
     "execution_count": 137,
     "metadata": {},
     "output_type": "execute_result"
    }
   ],
   "source": [
    "def factors(n):\n",
    "    results = []\n",
    "    for k in range(1, n+1):\n",
    "        if n % k == 0:\n",
    "            results.append(k)\n",
    "    return results\n",
    "\n",
    "\n",
    "factors(20)"
   ]
  },
  {
   "cell_type": "code",
   "execution_count": 138,
   "metadata": {},
   "outputs": [
    {
     "data": {
      "text/plain": [
       "<generator object factor_generator at 0x7f9afc61f8d0>"
      ]
     },
     "execution_count": 138,
     "metadata": {},
     "output_type": "execute_result"
    }
   ],
   "source": [
    "def factor_generator(n):\n",
    "    for k in range(1, n+1):\n",
    "        if n % k == 0:\n",
    "            yield k\n",
    "            \n",
    "factor_generator(20)"
   ]
  },
  {
   "cell_type": "code",
   "execution_count": 139,
   "metadata": {},
   "outputs": [
    {
     "name": "stdout",
     "output_type": "stream",
     "text": [
      "1\n",
      "2\n",
      "4\n",
      "5\n",
      "10\n",
      "20\n"
     ]
    }
   ],
   "source": [
    "for i in factor_generator(20):\n",
    "    print(i)"
   ]
  },
  {
   "cell_type": "code",
   "execution_count": 140,
   "metadata": {},
   "outputs": [],
   "source": [
    "x = factor_generator(20)"
   ]
  },
  {
   "cell_type": "code",
   "execution_count": 141,
   "metadata": {},
   "outputs": [
    {
     "data": {
      "text/plain": [
       "1"
      ]
     },
     "execution_count": 141,
     "metadata": {},
     "output_type": "execute_result"
    }
   ],
   "source": [
    "next(x)"
   ]
  },
  {
   "cell_type": "code",
   "execution_count": 142,
   "metadata": {},
   "outputs": [
    {
     "data": {
      "text/plain": [
       "2"
      ]
     },
     "execution_count": 142,
     "metadata": {},
     "output_type": "execute_result"
    }
   ],
   "source": [
    "next(x)"
   ]
  },
  {
   "cell_type": "code",
   "execution_count": 143,
   "metadata": {},
   "outputs": [
    {
     "data": {
      "text/plain": [
       "4"
      ]
     },
     "execution_count": 143,
     "metadata": {},
     "output_type": "execute_result"
    }
   ],
   "source": [
    "next(x)"
   ]
  },
  {
   "cell_type": "code",
   "execution_count": 144,
   "metadata": {},
   "outputs": [
    {
     "data": {
      "text/plain": [
       "5"
      ]
     },
     "execution_count": 144,
     "metadata": {},
     "output_type": "execute_result"
    }
   ],
   "source": [
    "next(x)"
   ]
  },
  {
   "cell_type": "code",
   "execution_count": 145,
   "metadata": {},
   "outputs": [
    {
     "data": {
      "text/plain": [
       "10"
      ]
     },
     "execution_count": 145,
     "metadata": {},
     "output_type": "execute_result"
    }
   ],
   "source": [
    "next(x)"
   ]
  },
  {
   "cell_type": "code",
   "execution_count": 146,
   "metadata": {},
   "outputs": [
    {
     "data": {
      "text/plain": [
       "20"
      ]
     },
     "execution_count": 146,
     "metadata": {},
     "output_type": "execute_result"
    }
   ],
   "source": [
    "next(x)"
   ]
  },
  {
   "cell_type": "code",
   "execution_count": 147,
   "metadata": {},
   "outputs": [
    {
     "ename": "StopIteration",
     "evalue": "",
     "output_type": "error",
     "traceback": [
      "\u001b[0;31m---------------------------------------------------------------------------\u001b[0m",
      "\u001b[0;31mStopIteration\u001b[0m                             Traceback (most recent call last)",
      "\u001b[0;32m<ipython-input-147-92de4e9f6b1e>\u001b[0m in \u001b[0;36m<module>\u001b[0;34m\u001b[0m\n\u001b[0;32m----> 1\u001b[0;31m \u001b[0mnext\u001b[0m\u001b[0;34m(\u001b[0m\u001b[0mx\u001b[0m\u001b[0;34m)\u001b[0m\u001b[0;34m\u001b[0m\u001b[0;34m\u001b[0m\u001b[0m\n\u001b[0m",
      "\u001b[0;31mStopIteration\u001b[0m: "
     ]
    }
   ],
   "source": [
    "next(x)"
   ]
  },
  {
   "cell_type": "code",
   "execution_count": 148,
   "metadata": {},
   "outputs": [],
   "source": [
    "def optimized_factors(n):\n",
    "    k = 1\n",
    "    while k*k < n:\n",
    "        if n % k == 0:\n",
    "            yield k\n",
    "            yield n // k\n",
    "        k += 1\n",
    "    if k*k == n:\n",
    "        yield k\n",
    "        \n",
    "x = optimized_factors(20)"
   ]
  },
  {
   "cell_type": "code",
   "execution_count": 149,
   "metadata": {},
   "outputs": [
    {
     "name": "stdout",
     "output_type": "stream",
     "text": [
      "1\n",
      "20\n",
      "2\n",
      "10\n",
      "4\n",
      "5\n",
      "No more values in generator!!!\n"
     ]
    }
   ],
   "source": [
    "while True:\n",
    "    try:\n",
    "        print(next(x))\n",
    "    except StopIteration:\n",
    "        print('No more values in generator!!!')\n",
    "        break\n",
    "    except:\n",
    "        print('Some unexpected error!!!')"
   ]
  },
  {
   "cell_type": "code",
   "execution_count": 150,
   "metadata": {},
   "outputs": [
    {
     "data": {
      "text/plain": [
       "3628800"
      ]
     },
     "execution_count": 150,
     "metadata": {},
     "output_type": "execute_result"
    }
   ],
   "source": [
    "def get_factorial(n):\n",
    "    if n == 0:\n",
    "        return 1\n",
    "    return n * get_factorial(n-1)\n",
    "\n",
    "get_factorial(10)"
   ]
  }
 ],
 "metadata": {
  "kernelspec": {
   "display_name": "Python 3",
   "language": "python",
   "name": "python3"
  },
  "language_info": {
   "codemirror_mode": {
    "name": "ipython",
    "version": 3
   },
   "file_extension": ".py",
   "mimetype": "text/x-python",
   "name": "python",
   "nbconvert_exporter": "python",
   "pygments_lexer": "ipython3",
   "version": "3.7.1"
  }
 },
 "nbformat": 4,
 "nbformat_minor": 4
}
