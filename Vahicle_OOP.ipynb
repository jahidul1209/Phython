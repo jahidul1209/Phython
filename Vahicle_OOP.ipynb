{
 "cells": [
  {
   "cell_type": "code",
   "execution_count": 9,
   "metadata": {},
   "outputs": [
    {
     "name": "stdout",
     "output_type": "stream",
     "text": [
      "**************Vehicle ********************\n",
      " Vehicle Type : Micro Bus \n",
      " This Color is : White \n",
      " Passenger Capacity : 20 \n",
      " Running Speed : 150Km/h \n",
      " Prize in Bangladesh: 2000000TK\n",
      "**************Vehicle ********************\n",
      " Vehicle Type :  Bus \n",
      " This Color is : Red \n",
      " Passenger Capacity : 50 \n",
      " Running Speed : 120Km/h \n",
      " Prize in Bangladesh: 2500000TK\n"
     ]
    }
   ],
   "source": [
    "class Vehicle:\n",
    " \n",
    "    def __init__(self, V_name, color, P_capacity,speed):\n",
    "        self.Vehicle_name = V_name\n",
    "        self.Color = color\n",
    "        self.Passenger_capacity = P_capacity\n",
    "        self.Speed = speed\n",
    "    def printname(self):\n",
    "        print(self.Vehicle_name, self.Color,self.Passenger_capacity, self.Speed)\n",
    "\n",
    "class Vehicle_1(Vehicle):\n",
    "    def __init__(self, V_name, color, P_capacity,speed,prize):\n",
    "        super().__init__(V_name, color, P_capacity,speed)\n",
    "        self.Prize = prize\n",
    "        \n",
    "    def welcome(self):\n",
    "        print(\"**************Vehicle ********************\")\n",
    "        print(\" Vehicle Type :\",self.Vehicle_name,\"\\n\",\"This Color is :\",self.Color,\"\\n\" ,\"Passenger Capacity :\", self.Passenger_capacity,\"\\n\" , \"Running Speed :\" , self.Speed,\"\\n\" ,\"Prize in Bangladesh:\", self.Prize)  \n",
    "\n",
    "        \n",
    "\n",
    "V_1 = Vehicle_1(\"Micro Bus\", \"White\", 20 ,\"150Km/h\",\"2000000TK\" )\n",
    "V_2 = Vehicle_1(\" Bus\", \"Red\", 50 ,\"120Km/h\",\"2500000TK\" )\n",
    "V_1.welcome()\n",
    "V_2.welcome()"
   ]
  },
  {
   "cell_type": "code",
   "execution_count": null,
   "metadata": {},
   "outputs": [],
   "source": []
  }
 ],
 "metadata": {
  "kernelspec": {
   "display_name": "Python 3",
   "language": "python",
   "name": "python3"
  },
  "language_info": {
   "codemirror_mode": {
    "name": "ipython",
    "version": 3
   },
   "file_extension": ".py",
   "mimetype": "text/x-python",
   "name": "python",
   "nbconvert_exporter": "python",
   "pygments_lexer": "ipython3",
   "version": "3.7.1"
  }
 },
 "nbformat": 4,
 "nbformat_minor": 2
}
