{
 "cells": [
  {
   "cell_type": "code",
   "execution_count": 30,
   "metadata": {},
   "outputs": [],
   "source": [
    "class ArrayQueue:\n",
    "   \n",
    "    DEFAULT_CAPACITY = 10\n",
    "   \n",
    "    def __init__(self):\n",
    "        self._data = [None] * ArrayQueue.DEFAULT_CAPACITY\n",
    "        self._size = 0\n",
    "        self._front = 0\n",
    "       \n",
    "       \n",
    "    def __len__(self):\n",
    "        return self._size\n",
    "   \n",
    "    def __repr__(self):\n",
    "        return str(self._data)\n",
    "   \n",
    "    def is_empty(self):\n",
    "        return self._size == 0\n",
    "   \n",
    "    def first(self):\n",
    "        if self.is_empty():\n",
    "            raise Exception('Queue is empty!')\n",
    "        return self._data[self._front]\n",
    "   \n",
    "    def dequeue(self):\n",
    "        if self.is_empty():\n",
    "            raise Exception('Queue is empty')\n",
    "        answer = self._data[self._front]\n",
    "        self._data[self._front] = None\n",
    "        self._front = (self._front + 1) % len(self._data)\n",
    "        self._size -= 1\n",
    "        return answer\n",
    "   \n",
    "    def enqueue(self, item):\n",
    "        if self._size == len(self._data):\n",
    "            self._resize(2*len(self._data))\n",
    "        avail = (self._front + self._size) % len(self._data)\n",
    "        self._data[avail] = item\n",
    "        self._size += 1\n",
    "   \n",
    "    def _resize(self, cap):\n",
    "        old = self._data\n",
    "        self._data = [None] * cap\n",
    "        walk = self._front\n",
    "        for k in range(self._size):\n",
    "            self._data[k] = old[walk]\n",
    "            walk = (1 + walk) % len(old)\n",
    "        self._front = 0"
   ]
  },
  {
   "cell_type": "code",
   "execution_count": 29,
   "metadata": {},
   "outputs": [
    {
     "ename": "ZeroDivisionError",
     "evalue": "integer division or modulo by zero",
     "output_type": "error",
     "traceback": [
      "\u001b[1;31m---------------------------------------------------------------------------\u001b[0m",
      "\u001b[1;31mZeroDivisionError\u001b[0m                         Traceback (most recent call last)",
      "\u001b[1;32m<ipython-input-29-5768d1bc6dee>\u001b[0m in \u001b[0;36m<module>\u001b[1;34m\u001b[0m\n\u001b[0;32m      1\u001b[0m \u001b[0mD\u001b[0m \u001b[1;33m=\u001b[0m \u001b[0mArrayQueue\u001b[0m\u001b[1;33m(\u001b[0m\u001b[1;33m)\u001b[0m\u001b[1;33m\u001b[0m\u001b[1;33m\u001b[0m\u001b[0m\n\u001b[0;32m      2\u001b[0m \u001b[1;33m\u001b[0m\u001b[0m\n\u001b[1;32m----> 3\u001b[1;33m \u001b[0mD\u001b[0m\u001b[1;33m.\u001b[0m\u001b[0menqueue\u001b[0m\u001b[1;33m(\u001b[0m\u001b[1;36m23\u001b[0m\u001b[1;33m)\u001b[0m\u001b[1;33m\u001b[0m\u001b[1;33m\u001b[0m\u001b[0m\n\u001b[0m\u001b[0;32m      4\u001b[0m \u001b[0mD\u001b[0m\u001b[1;33m.\u001b[0m\u001b[0menqueue\u001b[0m\u001b[1;33m(\u001b[0m\u001b[1;36m30\u001b[0m\u001b[1;33m)\u001b[0m\u001b[1;33m\u001b[0m\u001b[1;33m\u001b[0m\u001b[0m\n\u001b[0;32m      5\u001b[0m \u001b[0mD\u001b[0m\u001b[1;33m.\u001b[0m\u001b[0menqueue\u001b[0m\u001b[1;33m(\u001b[0m\u001b[1;36m50\u001b[0m\u001b[1;33m)\u001b[0m\u001b[1;33m\u001b[0m\u001b[1;33m\u001b[0m\u001b[0m\n",
      "\u001b[1;32m<ipython-input-28-358fff5f05bc>\u001b[0m in \u001b[0;36menqueue\u001b[1;34m(self, item)\u001b[0m\n\u001b[0;32m     35\u001b[0m         \u001b[1;32mif\u001b[0m \u001b[0mself\u001b[0m\u001b[1;33m.\u001b[0m\u001b[0m_size\u001b[0m \u001b[1;33m==\u001b[0m \u001b[0mlen\u001b[0m\u001b[1;33m(\u001b[0m\u001b[0mself\u001b[0m\u001b[1;33m.\u001b[0m\u001b[0m_data\u001b[0m\u001b[1;33m)\u001b[0m\u001b[1;33m:\u001b[0m\u001b[1;33m\u001b[0m\u001b[1;33m\u001b[0m\u001b[0m\n\u001b[0;32m     36\u001b[0m             \u001b[0mself\u001b[0m\u001b[1;33m.\u001b[0m\u001b[0m_resize\u001b[0m\u001b[1;33m(\u001b[0m\u001b[1;36m2\u001b[0m\u001b[1;33m*\u001b[0m\u001b[0mlen\u001b[0m\u001b[1;33m(\u001b[0m\u001b[0mself\u001b[0m\u001b[1;33m.\u001b[0m\u001b[0m_data\u001b[0m\u001b[1;33m)\u001b[0m\u001b[1;33m)\u001b[0m\u001b[1;33m\u001b[0m\u001b[1;33m\u001b[0m\u001b[0m\n\u001b[1;32m---> 37\u001b[1;33m         \u001b[0mavail\u001b[0m \u001b[1;33m=\u001b[0m \u001b[1;33m(\u001b[0m\u001b[0mself\u001b[0m\u001b[1;33m.\u001b[0m\u001b[0m_front\u001b[0m \u001b[1;33m+\u001b[0m \u001b[0mself\u001b[0m\u001b[1;33m.\u001b[0m\u001b[0m_size\u001b[0m\u001b[1;33m)\u001b[0m \u001b[1;33m%\u001b[0m \u001b[0mlen\u001b[0m\u001b[1;33m(\u001b[0m\u001b[0mself\u001b[0m\u001b[1;33m.\u001b[0m\u001b[0m_data\u001b[0m\u001b[1;33m)\u001b[0m\u001b[1;33m\u001b[0m\u001b[1;33m\u001b[0m\u001b[0m\n\u001b[0m\u001b[0;32m     38\u001b[0m         \u001b[0mself\u001b[0m\u001b[1;33m.\u001b[0m\u001b[0m_data\u001b[0m\u001b[1;33m[\u001b[0m\u001b[0mavail\u001b[0m\u001b[1;33m]\u001b[0m \u001b[1;33m=\u001b[0m \u001b[0mitem\u001b[0m\u001b[1;33m\u001b[0m\u001b[1;33m\u001b[0m\u001b[0m\n\u001b[0;32m     39\u001b[0m         \u001b[0mself\u001b[0m\u001b[1;33m.\u001b[0m\u001b[0m_size\u001b[0m \u001b[1;33m+=\u001b[0m \u001b[1;36m1\u001b[0m\u001b[1;33m\u001b[0m\u001b[1;33m\u001b[0m\u001b[0m\n",
      "\u001b[1;31mZeroDivisionError\u001b[0m: integer division or modulo by zero"
     ]
    }
   ],
   "source": [
    "D = ArrayQueue()\n",
    "\n",
    "D.enqueue(23)\n",
    "D.enqueue(30)\n",
    "D.enqueue(50)\n",
    "D.enqueue(29)\n",
    "D.enqueue(300)\n",
    "D.enqueue(500)\n",
    "D.enqueue(2900)\n",
    "D.enqueue(300)\n",
    "D.enqueue(3999)\n",
    "D.enqueue(30055)\n",
    "print(D.enqueue)\n",
    "D.first()"
   ]
  },
  {
   "cell_type": "code",
   "execution_count": 148,
   "metadata": {},
   "outputs": [],
   "source": [
    "class ArrayQueue:\n",
    "   \n",
    "    DEFAULT_CAPACITY = 10\n",
    "   \n",
    "    def __init__(self):\n",
    "        self._data = [None] * ArrayQueue.DEFAULT_CAPACITY\n",
    "        self._size = 0\n",
    "        self._front = 0\n",
    "       \n",
    "       \n",
    "    def __len__(self):\n",
    "        return self._size\n",
    "   \n",
    "    def __repr__(self):\n",
    "        return str(self._data)\n",
    "    \n",
    "    def is_empty(self):\n",
    "        return self._size == 0\n",
    "   \n",
    "    def first(self):\n",
    "        if self.is_empty():\n",
    "            raise Exception('Queue is empty!')\n",
    "        return self._data[self._front]\n",
    "    def last(self):\n",
    "        if self.is_empty():\n",
    "            raise Exception('Queue is empty!')\n",
    "        return self._data[self._size - 1]\n",
    "    \n",
    "    def add_last(self, item):\n",
    "        if self._size == len(self._data):\n",
    "            self._resize(2*len(self._data))\n",
    "        avail = (self._front + self._size) % len(self._data)\n",
    "        self._data[avail] = item\n",
    "        self._size += 1\n",
    "        \n",
    "    def delete_last (self):\n",
    "        if self.is_empty():\n",
    "            raise Exception('Queue is empty')\n",
    "        self._size -= 1\n",
    "        p = (self._front + self._size - 1 ) % len(self._data) \n",
    "        self._data[self._size] = None   \n",
    "        answr = self._data[p]\n",
    "        return answr\n",
    "    \n",
    "    def delete_first (self):\n",
    "        if self.is_empty():\n",
    "            raise Exception('Queue is empty')\n",
    "        answer = self._data[self._front]\n",
    "        self._data[self._front] = None\n",
    "        self._front = (self._front + 1) % len(self._data)   \n",
    "        return answer\n",
    "\n",
    "    def add_first(self, item):\n",
    "        if self._size == len(self._data):\n",
    "            raise Exception('Queue is not empty')\n",
    "        availl = (self._front - 1) % len(self._data)\n",
    "        self._data[availl] = item\n",
    "        self._size += 1\n",
    "        \n",
    "    def _resize(self, cap):\n",
    "        old = self._data\n",
    "        self._data = [None] * cap\n",
    "        walk = self._front\n",
    "        for k in range(self._size):\n",
    "            self._data[k] = old[walk]\n",
    "            walk = (1 + walk) % len(old)\n",
    "        self._front = 0\n",
    "        \n",
    "        "
   ]
  },
  {
   "cell_type": "code",
   "execution_count": 150,
   "metadata": {},
   "outputs": [
    {
     "name": "stdout",
     "output_type": "stream",
     "text": [
      "<bound method ArrayQueue.add_last of [10, 20, 30, 40, 50, 60, 70, 80, 90, 90]>\n",
      "10\n",
      "<bound method ArrayQueue.delete_last of [10, 20, 30, 40, 50, 60, 70, 80, 90, None]>\n",
      "10\n",
      "90\n"
     ]
    }
   ],
   "source": [
    "DH = ArrayQueue ()\n",
    "DH.add_last(10)\n",
    "DH.add_last(20)\n",
    "DH.add_last(30)\n",
    "DH.add_last(40)\n",
    "DH.add_last(50)\n",
    "DH.add_last(60)\n",
    "DH.add_last(70)\n",
    "DH.add_last(80)\n",
    "DH.add_last(90)\n",
    "DH.add_last(90)\n",
    "print(DH.add_last)\n",
    "\n",
    "print(DH.first())\n",
    "\n",
    "DH.delete_last()\n",
    "print(DH.delete_last)\n",
    "\n",
    "\n",
    "\n",
    "print(DH.first())\n",
    "\n",
    "print(DH.last())\n",
    "\n"
   ]
  },
  {
   "cell_type": "code",
   "execution_count": 119,
   "metadata": {},
   "outputs": [
    {
     "name": "stdout",
     "output_type": "stream",
     "text": [
      "<bound method ArrayQueue.delete_first of [30000, None, 30, 40, 50, 60, 70, 80, 90, 90]>\n"
     ]
    }
   ],
   "source": [
    "DH.delete_first()\n",
    "print(DH.delete_first)"
   ]
  },
  {
   "cell_type": "code",
   "execution_count": 120,
   "metadata": {},
   "outputs": [
    {
     "name": "stdout",
     "output_type": "stream",
     "text": [
      "<bound method ArrayQueue.add_first of [30000, 30000, 30, 40, 50, 60, 70, 80, 90, 90]>\n"
     ]
    }
   ],
   "source": [
    "DH.add_first(30000)\n",
    "print(DH.add_first)\n"
   ]
  },
  {
   "cell_type": "code",
   "execution_count": null,
   "metadata": {},
   "outputs": [],
   "source": []
  },
  {
   "cell_type": "code",
   "execution_count": null,
   "metadata": {},
   "outputs": [],
   "source": [
    "\n"
   ]
  },
  {
   "cell_type": "code",
   "execution_count": null,
   "metadata": {},
   "outputs": [],
   "source": []
  },
  {
   "cell_type": "code",
   "execution_count": null,
   "metadata": {},
   "outputs": [],
   "source": []
  },
  {
   "cell_type": "code",
   "execution_count": null,
   "metadata": {},
   "outputs": [],
   "source": []
  },
  {
   "cell_type": "code",
   "execution_count": null,
   "metadata": {},
   "outputs": [],
   "source": [
    "print(DH.first())\n",
    "\n",
    "DH.delete_last()\n",
    "print(DH.delete_last)\n",
    "\n",
    "DH.delete_first()\n",
    "print(DH.delete_first)\n",
    "\n",
    "DH.add_first(30000)\n",
    "print(DH.add_first)\n",
    "\n",
    "print(DH.first())\n",
    "\n",
    "print(DH.last())"
   ]
  }
 ],
 "metadata": {
  "kernelspec": {
   "display_name": "Python 3",
   "language": "python",
   "name": "python3"
  },
  "language_info": {
   "codemirror_mode": {
    "name": "ipython",
    "version": 3
   },
   "file_extension": ".py",
   "mimetype": "text/x-python",
   "name": "python",
   "nbconvert_exporter": "python",
   "pygments_lexer": "ipython3",
   "version": "3.7.1"
  }
 },
 "nbformat": 4,
 "nbformat_minor": 2
}
