{
 "cells": [
  {
   "cell_type": "code",
   "execution_count": null,
   "metadata": {},
   "outputs": [],
   "source": [
    "class Node:\n",
    "    __slots__ = ['element', 'prev', 'next']\n",
    "\n",
    "    def __init__(self, element=None, prev=None, next=None):\n",
    "        self.element = element\n",
    "        self.prev = prev\n",
    "        self.next = next\n",
    "\n",
    "\n",
    "class DoublyLinkedList:\n",
    "    __slots__ = ['header', 'trailer', 'size']\n",
    "\n",
    "    def __init__(self):\n",
    "        self.header = Node()\n",
    "        self.trailer = Node()\n",
    "        self.header.next = self.trailer\n",
    "        self.trailer.next = self.header\n",
    "        self.size = 0\n",
    "\n",
    "    def __len__(self):\n",
    "        return self.size\n",
    "\n",
    "    def is_empty(self):\n",
    "        return self.size == 0\n",
    "\n",
    "    def insert_between(self, element, prev_node, next_node):\n",
    "        new_node = Node(element, prev_node, next_node)\n",
    "        prev_node.next = new_node\n",
    "        next_node.prev = new_node\n",
    "        self.size += 1\n",
    "        return new_node\n",
    "\n",
    "    def delete_node(self, node):\n",
    "        prev_node = node.prev\n",
    "        next_node = node.next\n",
    "\n",
    "        prev_node.next = next_node\n",
    "        next_node.prev = prev_node\n",
    "        self.size -= 1\n",
    "\n",
    "        elem = node.element\n",
    "        node.element = node.prev = node.next = None\n",
    "\n",
    "        return elem\n",
    "\n",
    "    "
   ]
  }
 ],
 "metadata": {
  "kernelspec": {
   "display_name": "Python 3",
   "language": "python",
   "name": "python3"
  },
  "language_info": {
   "codemirror_mode": {
    "name": "ipython",
    "version": 3
   },
   "file_extension": ".py",
   "mimetype": "text/x-python",
   "name": "python",
   "nbconvert_exporter": "python",
   "pygments_lexer": "ipython3",
   "version": "3.7.1"
  }
 },
 "nbformat": 4,
 "nbformat_minor": 2
}
