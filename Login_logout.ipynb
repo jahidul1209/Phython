{
 "cells": [
  {
   "cell_type": "code",
   "execution_count": null,
   "metadata": {},
   "outputs": [],
   "source": [
    "class user:\n",
    "    name = ' '\n",
    "    email= ' '\n",
    "    password = ' '\n",
    "    login = False\n",
    "    \n",
    "    def login(self):\n",
    "        email = input(\"Enter email : \")\n",
    "        password = input (\"Enter Password :\")\n",
    "        \n",
    "        if email == self.email and password == self.password:\n",
    "            login = True \n",
    "            print ( \"Login Sueccssful \")\n",
    "        else:\n",
    "            print(\"Login Failed!\")\n",
    "    def logout(self):\n",
    "        login = False\n",
    "        print ( \" Log Out \")\n",
    "    def isLoggedIn(self):\n",
    "        if self.login:\n",
    "            return True\n",
    "        else:\n",
    "            return False\n",
    "    def profle(self):\n",
    "        if self.isLoggedIn():\n",
    "            print (self.name,\" - \",self.email )\n",
    "        else:\n",
    "            print(\"not user\")\n",
    "user_1 = user()\n",
    "user_1.name = \"Pavel\"\n",
    "user_1.email = \"jahidulku120912@gmail.com\"\n",
    "user_1.password = \"1234\"\n",
    "user_1.login()\n",
    "user_1.profle()\n",
    "\n",
    "    \n",
    "    "
   ]
  },
  {
   "cell_type": "code",
   "execution_count": null,
   "metadata": {},
   "outputs": [],
   "source": []
  },
  {
   "cell_type": "code",
   "execution_count": null,
   "metadata": {},
   "outputs": [],
   "source": []
  },
  {
   "cell_type": "code",
   "execution_count": null,
   "metadata": {},
   "outputs": [],
   "source": []
  },
  {
   "cell_type": "code",
   "execution_count": null,
   "metadata": {},
   "outputs": [],
   "source": []
  }
 ],
 "metadata": {
  "kernelspec": {
   "display_name": "Python 3",
   "language": "python",
   "name": "python3"
  },
  "language_info": {
   "codemirror_mode": {
    "name": "ipython",
    "version": 3
   },
   "file_extension": ".py",
   "mimetype": "text/x-python",
   "name": "python",
   "nbconvert_exporter": "python",
   "pygments_lexer": "ipython3",
   "version": "3.7.1"
  }
 },
 "nbformat": 4,
 "nbformat_minor": 2
}
