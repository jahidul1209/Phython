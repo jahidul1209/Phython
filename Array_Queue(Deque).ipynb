{
 "cells": [
  {
   "cell_type": "code",
   "execution_count": 24,
   "metadata": {},
   "outputs": [],
   "source": [
    "class ArrayQueue:\n",
    "   \n",
    "    DEFAULT_CAPACITY = 10\n",
    "   \n",
    "    def __init__(self):\n",
    "        self._data = [None] * ArrayQueue.DEFAULT_CAPACITY\n",
    "        self._size = 0\n",
    "        self._front = 0\n",
    "       \n",
    "       \n",
    "    def __len__(self):\n",
    "        return self._size\n",
    "   \n",
    "    def __repr__(self):\n",
    "        return str(self._data)\n",
    "    \n",
    "    def is_empty(self):\n",
    "        return self._size == 0\n",
    "   \n",
    "    def first(self):\n",
    "        if self.is_empty():\n",
    "            raise Exception('Queue is empty!')\n",
    "        return self._data[self._front]\n",
    "    def last(self):\n",
    "        if self.is_empty():\n",
    "            raise Exception('Queue is empty!')\n",
    "        return self._data[self._size - 1]\n",
    "    \n",
    "    def add_last(self, item):\n",
    "        if self._size == len(self._data):\n",
    "            self._resize(2*len(self._data))\n",
    "        avail = (self._front + self._size) % len(self._data)\n",
    "        self._data[avail] = item\n",
    "        self._size += 1\n",
    "        \n",
    "    def delete_last (self):\n",
    "        if self.is_empty():\n",
    "            raise Exception('Queue is empty')\n",
    "        self._size -= 1\n",
    "        velue = (self._front + self._size - 1 ) % len(self._data) \n",
    "        self._data[self._size] = None   \n",
    "        answr = self._data[velue]\n",
    "        return answr\n",
    "    \n",
    "    def delete_first (self):\n",
    "        if self.is_empty():\n",
    "            raise Exception('Queue is empty')\n",
    "        answer = self._data[self._front]\n",
    "        self._data[self._front] = None\n",
    "        self._front = (self._front + 1) % len(self._data)   \n",
    "        return answer\n",
    "\n",
    "    def add_first(self, item):\n",
    "        if self._size == (len(self._data) and (self._front == None)):\n",
    "            raise Exception('Queue is not empty')\n",
    "        availl = (self._front - 1) % len(self._data)\n",
    "        self._data[availl] = item\n",
    "        self._front -=1\n",
    "\n",
    "        \n",
    "    def _resize(self, cap):\n",
    "        old = self._data\n",
    "        self._data = [None] * cap\n",
    "        walk = self._front\n",
    "        for k in range(self._size):\n",
    "            self._data[k] = old[walk]\n",
    "            walk = (1 + walk) % len(old)\n",
    "        self._front = 0\n",
    "        \n",
    "        "
   ]
  },
  {
   "cell_type": "code",
   "execution_count": 28,
   "metadata": {},
   "outputs": [
    {
     "name": "stdout",
     "output_type": "stream",
     "text": [
      "<bound method ArrayQueue.add_last of [10, 20, 30, 40, 50, 60, 70, 80, 90, 930]>\n"
     ]
    }
   ],
   "source": [
    "DH = ArrayQueue ()\n",
    "DH.add_last(10)\n",
    "DH.add_last(20)\n",
    "DH.add_last(30)\n",
    "DH.add_last(40)\n",
    "DH.add_last(50)\n",
    "DH.add_last(60)\n",
    "DH.add_last(70)\n",
    "DH.add_last(80)\n",
    "DH.add_last(90)\n",
    "DH.add_last(930)\n",
    "print(DH.add_last)"
   ]
  },
  {
   "cell_type": "code",
   "execution_count": 29,
   "metadata": {},
   "outputs": [
    {
     "name": "stdout",
     "output_type": "stream",
     "text": [
      "10\n",
      "930\n"
     ]
    }
   ],
   "source": [
    "print(DH.first())\n",
    "\n",
    "print(DH.last())"
   ]
  },
  {
   "cell_type": "code",
   "execution_count": 34,
   "metadata": {},
   "outputs": [
    {
     "name": "stdout",
     "output_type": "stream",
     "text": [
      "<bound method ArrayQueue.delete_first of [None, None, 30, 40, 50, 60, 70, 80, 90, 930]>\n"
     ]
    }
   ],
   "source": [
    "DH.delete_first()\n",
    "print(DH.delete_first)"
   ]
  },
  {
   "cell_type": "code",
   "execution_count": 35,
   "metadata": {},
   "outputs": [
    {
     "name": "stdout",
     "output_type": "stream",
     "text": [
      "30\n",
      "930\n"
     ]
    }
   ],
   "source": [
    "print(DH.first())\n",
    "\n",
    "print(DH.last())"
   ]
  },
  {
   "cell_type": "code",
   "execution_count": 36,
   "metadata": {},
   "outputs": [
    {
     "name": "stdout",
     "output_type": "stream",
     "text": [
      "<bound method ArrayQueue.add_first of [None, 3000, 30, 40, 50, 60, 70, 80, 90, 930]>\n"
     ]
    }
   ],
   "source": [
    "DH.add_first(3000)\n",
    "print(DH.add_first)"
   ]
  },
  {
   "cell_type": "code",
   "execution_count": 37,
   "metadata": {},
   "outputs": [
    {
     "name": "stdout",
     "output_type": "stream",
     "text": [
      "3000\n",
      "930\n"
     ]
    }
   ],
   "source": [
    "print(DH.first())\n",
    "\n",
    "print(DH.last())"
   ]
  },
  {
   "cell_type": "code",
   "execution_count": 38,
   "metadata": {},
   "outputs": [
    {
     "name": "stdout",
     "output_type": "stream",
     "text": [
      "<bound method ArrayQueue.delete_last of [None, 3000, 30, 40, 50, 60, 70, 80, 90, None]>\n"
     ]
    }
   ],
   "source": [
    "DH.delete_last()\n",
    "print(DH.delete_last)"
   ]
  },
  {
   "cell_type": "code",
   "execution_count": 39,
   "metadata": {},
   "outputs": [
    {
     "name": "stdout",
     "output_type": "stream",
     "text": [
      "3000\n",
      "90\n"
     ]
    }
   ],
   "source": [
    "print(DH.first())\n",
    "\n",
    "print(DH.last())"
   ]
  },
  {
   "cell_type": "code",
   "execution_count": null,
   "metadata": {},
   "outputs": [],
   "source": []
  }
 ],
 "metadata": {
  "kernelspec": {
   "display_name": "Python 3",
   "language": "python",
   "name": "python3"
  },
  "language_info": {
   "codemirror_mode": {
    "name": "ipython",
    "version": 3
   },
   "file_extension": ".py",
   "mimetype": "text/x-python",
   "name": "python",
   "nbconvert_exporter": "python",
   "pygments_lexer": "ipython3",
   "version": "3.7.1"
  }
 },
 "nbformat": 4,
 "nbformat_minor": 2
}
