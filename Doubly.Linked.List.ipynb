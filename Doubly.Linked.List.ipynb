{
 "cells": [
  {
   "cell_type": "code",
   "execution_count": 17,
   "metadata": {},
   "outputs": [
    {
     "name": "stdout",
     "output_type": "stream",
     "text": [
      "10\n",
      "0\n",
      "1\n",
      "2\n",
      "3\n",
      "4\n"
     ]
    }
   ],
   "source": [
    "class Node:\n",
    "    def __init__(self , data):\n",
    "        self.data = data\n",
    "        self.next = None\n",
    "        self.prev = None \n",
    "class doublylinklist:\n",
    "    def __init__(self):\n",
    "        self.head = None\n",
    "    def append(self,data):\n",
    "        if self.head is None :\n",
    "            new_node = Node(data)\n",
    "            new_node.prev = None\n",
    "            self.head = new_node\n",
    "        else:\n",
    "            new_node = Node(data)\n",
    "            p = self.head\n",
    "            while p.next :\n",
    "                p = p.next\n",
    "            p.next=new_node\n",
    "            new_node.prev = p\n",
    "            new_node.next = None \n",
    "    def prepend(self,data):\n",
    "        if self.head is None :\n",
    "            new_node = Node(data)\n",
    "            new_node.prev = None\n",
    "            self.head = new_node\n",
    "        else:\n",
    "            new_node = Node(data)\n",
    "            self.head.prev = new_node\n",
    "            new_node.next = self.head\n",
    "            self.head = new_node\n",
    "            new_node.prev = None\n",
    "    def add_between(self, key ,data):\n",
    "        p = self.head\n",
    "        while p:\n",
    "            if p.next is None and p.data ==  key:\n",
    "                self.append(data)\n",
    "                return\n",
    "            elif p.data == key:\n",
    "                new_node = Node(data)\n",
    "                nxt = p.next\n",
    "                p.next = new_node\n",
    "                new_node.next = nxt\n",
    "                new_node.prev = p\n",
    "                nxt.prev = new_node\n",
    "            p = p.next\n",
    "    \n",
    "    def display (self):\n",
    "        p = self.head\n",
    "        while p:\n",
    "            print(p.data)\n",
    "            p = p.next\n",
    "\n",
    "        \n",
    "list = doublylinklist ()\n",
    "list.append(1)\n",
    "list.append(2)\n",
    "list.append(3)\n",
    "list.append(4)\n",
    "list.prepend(0)\n",
    "list.prepend(10)\n",
    "list.display()\n",
    "\n",
    "        "
   ]
  },
  {
   "cell_type": "code",
   "execution_count": 18,
   "metadata": {},
   "outputs": [
    {
     "name": "stdout",
     "output_type": "stream",
     "text": [
      "10\n",
      "0\n",
      "1\n",
      "2\n",
      "3\n",
      "63\n",
      "4\n"
     ]
    }
   ],
   "source": [
    "list.add_between(3,63)\n",
    "list.display()"
   ]
  },
  {
   "cell_type": "code",
   "execution_count": null,
   "metadata": {},
   "outputs": [],
   "source": []
  }
 ],
 "metadata": {
  "kernelspec": {
   "display_name": "Python 3",
   "language": "python",
   "name": "python3"
  },
  "language_info": {
   "codemirror_mode": {
    "name": "ipython",
    "version": 3
   },
   "file_extension": ".py",
   "mimetype": "text/x-python",
   "name": "python",
   "nbconvert_exporter": "python",
   "pygments_lexer": "ipython3",
   "version": "3.7.1"
  }
 },
 "nbformat": 4,
 "nbformat_minor": 2
}
