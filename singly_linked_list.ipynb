{
 "cells": [
  {
   "cell_type": "code",
   "execution_count": 7,
   "metadata": {},
   "outputs": [
    {
     "name": "stdout",
     "output_type": "stream",
     "text": [
      "1\n",
      "2\n",
      "3\n",
      "4\n",
      "5\n",
      "6\n",
      "7\n",
      "8\n",
      "None\n"
     ]
    }
   ],
   "source": [
    "class Node:\n",
    "    __slots__ = ['element', 'next']\n",
    "\n",
    "    def __init__(self, element, next=None):\n",
    "        self.element = element\n",
    "        self.next = next\n",
    "\n",
    "\n",
    "class SinglyLinkedList:\n",
    "    __slots__ = ['head', 'size', 'tail']\n",
    "\n",
    "    def __init__(self, head=None, tail=None):\n",
    "        self.head = head\n",
    "        self.tail = tail\n",
    "        self.size = 0\n",
    "\n",
    "    def add_first(self, element):\n",
    "        new_node = Node(element)\n",
    "        new_node.next = self.head\n",
    "        self.head = new_node\n",
    "        self.size += 1\n",
    "\n",
    "    def add_last(self, element):\n",
    "        new_node = Node(element)\n",
    "        new_node.next = None\n",
    "        self.tail.next = new_node\n",
    "        self.tail = new_node\n",
    "        self.size += 1\n",
    "\n",
    "    def remove_first(self):\n",
    "        if self.head is None:\n",
    "            raise Exception('Linked list has no head.')\n",
    "\n",
    "        self.head = self.head.next\n",
    "        self.size -= 1\n",
    "\n",
    "    def remove_last(self):\n",
    "        if self.tail is None:\n",
    "            raise Exception('Linked list has no tail.')\n",
    "\n",
    "        # there is no efficient method to do this.\n",
    "        # try out your solution anyway\n",
    "\n",
    "        # We need doubly linked list to do it efficiently\n",
    "\n",
    "\n",
    "singly_linked_list = SinglyLinkedList()\n",
    "first = Node(1)\n",
    "second = Node(2)\n",
    "third = Node(3)\n",
    "fourth = Node(4)\n",
    "fifth = Node(5)\n",
    "sixth = Node(6)\n",
    "seventh = Node(7)\n",
    "eighth = Node(8)\n",
    "\n",
    "singly_linked_list.head = first\n",
    "\n",
    "first.next = second\n",
    "second.next = third\n",
    "third.next = fourth\n",
    "fourth.next = fifth\n",
    "fifth.next = sixth\n",
    "sixth.next = seventh\n",
    "seventh.next = eighth\n",
    "\n",
    "current_node = singly_linked_list.head\n",
    "\n",
    "while current_node:\n",
    "    print(current_node.element)\n",
    "    current_node = current_node.next\n",
    "\n",
    "\n",
    "def nth_from_end(head, n):\n",
    "    pointer1 = head\n",
    "    pointer2 = head\n",
    "    for i in range(n):\n",
    "        if pointer2 is None:\n",
    "            return None\n",
    "        pointer2 = pointer2.next\n",
    "\n",
    "    while pointer2:\n",
    "        pointer2 = pointer2.next\n",
    "        pointer1 = pointer1.next\n",
    "\n",
    "    return pointer1.element\n",
    "\n",
    "\n",
    "print(nth_from_end(singly_linked_list.head, 9))\n",
    "\n",
    "\n",
    "# Homework: Implement Stack, Queue using Linked List"
   ]
  },
  {
   "cell_type": "code",
   "execution_count": 8,
   "metadata": {},
   "outputs": [
    {
     "name": "stdout",
     "output_type": "stream",
     "text": [
      "Enter input : 100\n"
     ]
    }
   ],
   "source": [
    "element= int(input(\"Enter input : \"))\n",
    "list = SinglyLinkedList()\n",
    "list.add_first(element)"
   ]
  },
  {
   "cell_type": "code",
   "execution_count": null,
   "metadata": {},
   "outputs": [],
   "source": []
  },
  {
   "cell_type": "code",
   "execution_count": null,
   "metadata": {},
   "outputs": [],
   "source": []
  }
 ],
 "metadata": {
  "kernelspec": {
   "display_name": "Python 3",
   "language": "python",
   "name": "python3"
  },
  "language_info": {
   "codemirror_mode": {
    "name": "ipython",
    "version": 3
   },
   "file_extension": ".py",
   "mimetype": "text/x-python",
   "name": "python",
   "nbconvert_exporter": "python",
   "pygments_lexer": "ipython3",
   "version": "3.7.1"
  }
 },
 "nbformat": 4,
 "nbformat_minor": 2
}
